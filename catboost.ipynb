{
  "nbformat": 4,
  "nbformat_minor": 0,
  "metadata": {
    "colab": {
      "name": "catboost.ipynb",
      "provenance": [],
      "authorship_tag": "ABX9TyNOgaJgt9Y6gZ9vaWKLOHL4",
      "include_colab_link": true
    },
    "kernelspec": {
      "name": "python3",
      "display_name": "Python 3"
    },
    "language_info": {
      "name": "python"
    }
  },
  "cells": [
    {
      "cell_type": "markdown",
      "metadata": {
        "id": "view-in-github",
        "colab_type": "text"
      },
      "source": [
        "<a href=\"https://colab.research.google.com/github/vilacco/catboost/blob/main/catboost.ipynb\" target=\"_parent\"><img src=\"https://colab.research.google.com/assets/colab-badge.svg\" alt=\"Open In Colab\"/></a>"
      ]
    },
    {
      "cell_type": "code",
      "metadata": {
        "id": "DQh5Ob4cyVKv"
      },
      "source": [
        "import pandas as pd\n",
        "import numpy as np"
      ],
      "execution_count": 1,
      "outputs": []
    },
    {
      "cell_type": "code",
      "metadata": {
        "id": "C-uPPzWBj1LX"
      },
      "source": [
        "df = pd.read_csv('/content/train.csv') #kaggle - Natural Language Processing with Disaster Tweets#"
      ],
      "execution_count": 2,
      "outputs": []
    },
    {
      "cell_type": "code",
      "metadata": {
        "colab": {
          "base_uri": "https://localhost:8080/",
          "height": 300
        },
        "id": "d6psaf-Nj6hm",
        "outputId": "2459a831-fff3-4184-b612-c868418175ea"
      },
      "source": [
        "df.describe()"
      ],
      "execution_count": 35,
      "outputs": [
        {
          "output_type": "execute_result",
          "data": {
            "text/html": [
              "<div>\n",
              "<style scoped>\n",
              "    .dataframe tbody tr th:only-of-type {\n",
              "        vertical-align: middle;\n",
              "    }\n",
              "\n",
              "    .dataframe tbody tr th {\n",
              "        vertical-align: top;\n",
              "    }\n",
              "\n",
              "    .dataframe thead th {\n",
              "        text-align: right;\n",
              "    }\n",
              "</style>\n",
              "<table border=\"1\" class=\"dataframe\">\n",
              "  <thead>\n",
              "    <tr style=\"text-align: right;\">\n",
              "      <th></th>\n",
              "      <th>id</th>\n",
              "      <th>target</th>\n",
              "    </tr>\n",
              "  </thead>\n",
              "  <tbody>\n",
              "    <tr>\n",
              "      <th>count</th>\n",
              "      <td>7613.000000</td>\n",
              "      <td>7613.00000</td>\n",
              "    </tr>\n",
              "    <tr>\n",
              "      <th>mean</th>\n",
              "      <td>5441.934848</td>\n",
              "      <td>0.42966</td>\n",
              "    </tr>\n",
              "    <tr>\n",
              "      <th>std</th>\n",
              "      <td>3137.116090</td>\n",
              "      <td>0.49506</td>\n",
              "    </tr>\n",
              "    <tr>\n",
              "      <th>min</th>\n",
              "      <td>1.000000</td>\n",
              "      <td>0.00000</td>\n",
              "    </tr>\n",
              "    <tr>\n",
              "      <th>25%</th>\n",
              "      <td>2734.000000</td>\n",
              "      <td>0.00000</td>\n",
              "    </tr>\n",
              "    <tr>\n",
              "      <th>50%</th>\n",
              "      <td>5408.000000</td>\n",
              "      <td>0.00000</td>\n",
              "    </tr>\n",
              "    <tr>\n",
              "      <th>75%</th>\n",
              "      <td>8146.000000</td>\n",
              "      <td>1.00000</td>\n",
              "    </tr>\n",
              "    <tr>\n",
              "      <th>max</th>\n",
              "      <td>10873.000000</td>\n",
              "      <td>1.00000</td>\n",
              "    </tr>\n",
              "  </tbody>\n",
              "</table>\n",
              "</div>"
            ],
            "text/plain": [
              "                 id      target\n",
              "count   7613.000000  7613.00000\n",
              "mean    5441.934848     0.42966\n",
              "std     3137.116090     0.49506\n",
              "min        1.000000     0.00000\n",
              "25%     2734.000000     0.00000\n",
              "50%     5408.000000     0.00000\n",
              "75%     8146.000000     1.00000\n",
              "max    10873.000000     1.00000"
            ]
          },
          "metadata": {},
          "execution_count": 35
        }
      ]
    },
    {
      "cell_type": "code",
      "metadata": {
        "colab": {
          "base_uri": "https://localhost:8080/"
        },
        "id": "sUOudGu6oPNw",
        "outputId": "b2c4b998-e7bb-46ff-c3f5-e52f88dbecf5"
      },
      "source": [
        "df.target.mean()            "
      ],
      "execution_count": 4,
      "outputs": [
        {
          "output_type": "execute_result",
          "data": {
            "text/plain": [
              "0.4296597924602653"
            ]
          },
          "metadata": {},
          "execution_count": 4
        }
      ]
    },
    {
      "cell_type": "code",
      "metadata": {
        "id": "R7RNSqxEOl8O"
      },
      "source": [
        "from sklearn.model_selection import train_test_split"
      ],
      "execution_count": 6,
      "outputs": []
    },
    {
      "cell_type": "code",
      "metadata": {
        "id": "Dfo0aUYHqU3b"
      },
      "source": [
        "train = df.sample(frac=0.8).copy()\n",
        "validation = df[~df.index.isin(train.index)]"
      ],
      "execution_count": 10,
      "outputs": []
    },
    {
      "cell_type": "code",
      "metadata": {
        "colab": {
          "base_uri": "https://localhost:8080/"
        },
        "id": "n_GZaKrNqqQz",
        "outputId": "e2c82860-7542-4026-cade-aa3a0f19b106"
      },
      "source": [
        "len(validation) + len(train)"
      ],
      "execution_count": 11,
      "outputs": [
        {
          "output_type": "execute_result",
          "data": {
            "text/plain": [
              "7613"
            ]
          },
          "metadata": {},
          "execution_count": 11
        }
      ]
    },
    {
      "cell_type": "code",
      "metadata": {
        "id": "l2YtrNd8rLjk"
      },
      "source": [
        "! pip install catboost"
      ],
      "execution_count": null,
      "outputs": []
    },
    {
      "cell_type": "code",
      "metadata": {
        "id": "JM4CtvuTrZca"
      },
      "source": [
        "! pip install catboost --upgrade"
      ],
      "execution_count": null,
      "outputs": []
    },
    {
      "cell_type": "code",
      "metadata": {
        "id": "bchbQV_QrrSb"
      },
      "source": [
        "from catboost import CatBoostClassifier"
      ],
      "execution_count": 14,
      "outputs": []
    },
    {
      "cell_type": "code",
      "metadata": {
        "id": "1Cz42mOsr65f"
      },
      "source": [
        "model = CatBoostClassifier() "
      ],
      "execution_count": 15,
      "outputs": []
    },
    {
      "cell_type": "code",
      "metadata": {
        "colab": {
          "base_uri": "https://localhost:8080/"
        },
        "id": "I3yXP_JosI7z",
        "outputId": "d78334bc-6d66-42d0-a364-d31448345f52"
      },
      "source": [
        "df.columns\n"
      ],
      "execution_count": 16,
      "outputs": [
        {
          "output_type": "execute_result",
          "data": {
            "text/plain": [
              "Index(['id', 'keyword', 'location', 'text', 'target'], dtype='object')"
            ]
          },
          "metadata": {},
          "execution_count": 16
        }
      ]
    },
    {
      "cell_type": "code",
      "metadata": {
        "id": "YVmGosDDsPsX"
      },
      "source": [
        "X_ = ['text']\n",
        "Y_ = ['target']"
      ],
      "execution_count": 30,
      "outputs": []
    },
    {
      "cell_type": "code",
      "metadata": {
        "id": "1JIYm_plsegg"
      },
      "source": [
        "text_features = ['text']"
      ],
      "execution_count": 31,
      "outputs": []
    },
    {
      "cell_type": "code",
      "metadata": {
        "id": "KPKz4J7t3A44"
      },
      "source": [
        "model = CatBoostClassifier(text_features = text_features, verbose=30)"
      ],
      "execution_count": 33,
      "outputs": []
    },
    {
      "cell_type": "code",
      "metadata": {
        "colab": {
          "base_uri": "https://localhost:8080/"
        },
        "id": "UWH7yE3N3Q0P",
        "outputId": "1596c79d-3367-4a36-82f3-18f1b736f3a3"
      },
      "source": [
        "model.fit(train[X_], train[Y_], eval_set = (validation[X_], validation[Y_]))"
      ],
      "execution_count": 34,
      "outputs": [
        {
          "output_type": "stream",
          "name": "stdout",
          "text": [
            "Learning rate set to 0.049512\n",
            "0:\tlearn: 0.6766456\ttest: 0.6761453\tbest: 0.6761453 (0)\ttotal: 394ms\tremaining: 6m 33s\n",
            "30:\tlearn: 0.5075053\ttest: 0.5001634\tbest: 0.5001634 (30)\ttotal: 6.26s\tremaining: 3m 15s\n",
            "60:\tlearn: 0.4878317\ttest: 0.4819956\tbest: 0.4819956 (60)\ttotal: 12s\tremaining: 3m 4s\n",
            "90:\tlearn: 0.4789122\ttest: 0.4767006\tbest: 0.4766954 (89)\ttotal: 17.8s\tremaining: 2m 57s\n",
            "120:\tlearn: 0.4724780\ttest: 0.4752346\tbest: 0.4751150 (117)\ttotal: 23.5s\tremaining: 2m 50s\n",
            "150:\tlearn: 0.4666008\ttest: 0.4736050\tbest: 0.4734606 (147)\ttotal: 29.2s\tremaining: 2m 44s\n",
            "180:\tlearn: 0.4590904\ttest: 0.4711036\tbest: 0.4711036 (180)\ttotal: 35s\tremaining: 2m 38s\n",
            "210:\tlearn: 0.4509736\ttest: 0.4688345\tbest: 0.4687559 (209)\ttotal: 40.7s\tremaining: 2m 32s\n",
            "240:\tlearn: 0.4428220\ttest: 0.4680808\tbest: 0.4680132 (237)\ttotal: 46.4s\tremaining: 2m 26s\n",
            "270:\tlearn: 0.4349358\ttest: 0.4673671\tbest: 0.4673671 (270)\ttotal: 52.2s\tremaining: 2m 20s\n",
            "300:\tlearn: 0.4277092\ttest: 0.4678655\tbest: 0.4673171 (281)\ttotal: 57.9s\tremaining: 2m 14s\n",
            "330:\tlearn: 0.4211777\ttest: 0.4676093\tbest: 0.4673171 (281)\ttotal: 1m 3s\tremaining: 2m 8s\n",
            "360:\tlearn: 0.4158136\ttest: 0.4675484\tbest: 0.4673171 (281)\ttotal: 1m 9s\tremaining: 2m 2s\n",
            "390:\tlearn: 0.4110078\ttest: 0.4672434\tbest: 0.4670754 (386)\ttotal: 1m 15s\tremaining: 1m 56s\n",
            "420:\tlearn: 0.4055385\ttest: 0.4676759\tbest: 0.4670754 (386)\ttotal: 1m 20s\tremaining: 1m 51s\n",
            "450:\tlearn: 0.3998772\ttest: 0.4672036\tbest: 0.4668541 (435)\ttotal: 1m 26s\tremaining: 1m 45s\n",
            "480:\tlearn: 0.3945999\ttest: 0.4670329\tbest: 0.4668541 (435)\ttotal: 1m 32s\tremaining: 1m 39s\n",
            "510:\tlearn: 0.3888653\ttest: 0.4677304\tbest: 0.4668129 (485)\ttotal: 1m 37s\tremaining: 1m 33s\n",
            "540:\tlearn: 0.3834899\ttest: 0.4677342\tbest: 0.4668129 (485)\ttotal: 1m 43s\tremaining: 1m 27s\n",
            "570:\tlearn: 0.3786591\ttest: 0.4677030\tbest: 0.4668129 (485)\ttotal: 1m 49s\tremaining: 1m 22s\n",
            "600:\tlearn: 0.3743510\ttest: 0.4676245\tbest: 0.4668129 (485)\ttotal: 1m 55s\tremaining: 1m 16s\n",
            "630:\tlearn: 0.3697240\ttest: 0.4678875\tbest: 0.4668129 (485)\ttotal: 2m\tremaining: 1m 10s\n",
            "660:\tlearn: 0.3650864\ttest: 0.4684258\tbest: 0.4668129 (485)\ttotal: 2m 6s\tremaining: 1m 4s\n",
            "690:\tlearn: 0.3609835\ttest: 0.4679608\tbest: 0.4668129 (485)\ttotal: 2m 12s\tremaining: 59.2s\n",
            "720:\tlearn: 0.3568244\ttest: 0.4681667\tbest: 0.4668129 (485)\ttotal: 2m 18s\tremaining: 53.4s\n",
            "750:\tlearn: 0.3526941\ttest: 0.4674820\tbest: 0.4668129 (485)\ttotal: 2m 23s\tremaining: 47.7s\n",
            "780:\tlearn: 0.3485742\ttest: 0.4675163\tbest: 0.4668129 (485)\ttotal: 2m 29s\tremaining: 41.9s\n",
            "810:\tlearn: 0.3442667\ttest: 0.4671973\tbest: 0.4668129 (485)\ttotal: 2m 35s\tremaining: 36.2s\n",
            "840:\tlearn: 0.3400524\ttest: 0.4671653\tbest: 0.4668129 (485)\ttotal: 2m 41s\tremaining: 30.4s\n",
            "870:\tlearn: 0.3364314\ttest: 0.4671478\tbest: 0.4668129 (485)\ttotal: 2m 46s\tremaining: 24.7s\n",
            "900:\tlearn: 0.3326271\ttest: 0.4677651\tbest: 0.4668129 (485)\ttotal: 2m 52s\tremaining: 19s\n",
            "930:\tlearn: 0.3290627\ttest: 0.4676237\tbest: 0.4668129 (485)\ttotal: 2m 58s\tremaining: 13.2s\n",
            "960:\tlearn: 0.3256555\ttest: 0.4681959\tbest: 0.4668129 (485)\ttotal: 3m 4s\tremaining: 7.47s\n",
            "990:\tlearn: 0.3215501\ttest: 0.4684344\tbest: 0.4668129 (485)\ttotal: 3m 9s\tremaining: 1.72s\n",
            "999:\tlearn: 0.3207329\ttest: 0.4683752\tbest: 0.4668129 (485)\ttotal: 3m 11s\tremaining: 0us\n",
            "\n",
            "bestTest = 0.4668129391\n",
            "bestIteration = 485\n",
            "\n",
            "Shrink model to first 486 iterations.\n"
          ]
        },
        {
          "output_type": "execute_result",
          "data": {
            "text/plain": [
              "<catboost.core.CatBoostClassifier at 0x7fba0f223ad0>"
            ]
          },
          "metadata": {},
          "execution_count": 34
        }
      ]
    },
    {
      "cell_type": "code",
      "metadata": {
        "colab": {
          "base_uri": "https://localhost:8080/"
        },
        "id": "B7cnIPgA4FFZ",
        "outputId": "247987f2-7ff0-47f9-cfb4-c8e307d2c256"
      },
      "source": [
        "model.predict(validation[X_]).mean()"
      ],
      "execution_count": 38,
      "outputs": [
        {
          "output_type": "execute_result",
          "data": {
            "text/plain": [
              "0.3026920551543007"
            ]
          },
          "metadata": {},
          "execution_count": 38
        }
      ]
    },
    {
      "cell_type": "code",
      "metadata": {
        "id": "sVJUWnra9KjQ"
      },
      "source": [
        "from sklearn.metrics import f1_score, classification_report"
      ],
      "execution_count": 39,
      "outputs": []
    },
    {
      "cell_type": "code",
      "metadata": {
        "id": "hhK7VOmx9iXf"
      },
      "source": [
        "tt = pd.DataFrame({'y_true': validation['target'].copy(), 'y_pred': model.predict(validation[X_])})"
      ],
      "execution_count": 40,
      "outputs": []
    },
    {
      "cell_type": "code",
      "metadata": {
        "colab": {
          "base_uri": "https://localhost:8080/",
          "height": 424
        },
        "id": "2dx3WYZM93pV",
        "outputId": "c9f423a8-9961-43b7-b146-776e918daaf3"
      },
      "source": [
        "tt"
      ],
      "execution_count": 41,
      "outputs": [
        {
          "output_type": "execute_result",
          "data": {
            "text/html": [
              "<div>\n",
              "<style scoped>\n",
              "    .dataframe tbody tr th:only-of-type {\n",
              "        vertical-align: middle;\n",
              "    }\n",
              "\n",
              "    .dataframe tbody tr th {\n",
              "        vertical-align: top;\n",
              "    }\n",
              "\n",
              "    .dataframe thead th {\n",
              "        text-align: right;\n",
              "    }\n",
              "</style>\n",
              "<table border=\"1\" class=\"dataframe\">\n",
              "  <thead>\n",
              "    <tr style=\"text-align: right;\">\n",
              "      <th></th>\n",
              "      <th>y_true</th>\n",
              "      <th>y_pred</th>\n",
              "    </tr>\n",
              "  </thead>\n",
              "  <tbody>\n",
              "    <tr>\n",
              "      <th>3</th>\n",
              "      <td>1</td>\n",
              "      <td>1</td>\n",
              "    </tr>\n",
              "    <tr>\n",
              "      <th>12</th>\n",
              "      <td>1</td>\n",
              "      <td>1</td>\n",
              "    </tr>\n",
              "    <tr>\n",
              "      <th>19</th>\n",
              "      <td>0</td>\n",
              "      <td>0</td>\n",
              "    </tr>\n",
              "    <tr>\n",
              "      <th>38</th>\n",
              "      <td>1</td>\n",
              "      <td>1</td>\n",
              "    </tr>\n",
              "    <tr>\n",
              "      <th>45</th>\n",
              "      <td>0</td>\n",
              "      <td>0</td>\n",
              "    </tr>\n",
              "    <tr>\n",
              "      <th>...</th>\n",
              "      <td>...</td>\n",
              "      <td>...</td>\n",
              "    </tr>\n",
              "    <tr>\n",
              "      <th>7590</th>\n",
              "      <td>1</td>\n",
              "      <td>1</td>\n",
              "    </tr>\n",
              "    <tr>\n",
              "      <th>7594</th>\n",
              "      <td>1</td>\n",
              "      <td>0</td>\n",
              "    </tr>\n",
              "    <tr>\n",
              "      <th>7596</th>\n",
              "      <td>1</td>\n",
              "      <td>1</td>\n",
              "    </tr>\n",
              "    <tr>\n",
              "      <th>7601</th>\n",
              "      <td>1</td>\n",
              "      <td>1</td>\n",
              "    </tr>\n",
              "    <tr>\n",
              "      <th>7606</th>\n",
              "      <td>1</td>\n",
              "      <td>1</td>\n",
              "    </tr>\n",
              "  </tbody>\n",
              "</table>\n",
              "<p>1523 rows × 2 columns</p>\n",
              "</div>"
            ],
            "text/plain": [
              "      y_true  y_pred\n",
              "3          1       1\n",
              "12         1       1\n",
              "19         0       0\n",
              "38         1       1\n",
              "45         0       0\n",
              "...      ...     ...\n",
              "7590       1       1\n",
              "7594       1       0\n",
              "7596       1       1\n",
              "7601       1       1\n",
              "7606       1       1\n",
              "\n",
              "[1523 rows x 2 columns]"
            ]
          },
          "metadata": {},
          "execution_count": 41
        }
      ]
    },
    {
      "cell_type": "code",
      "metadata": {
        "colab": {
          "base_uri": "https://localhost:8080/"
        },
        "id": "KNkQHwiK94tR",
        "outputId": "a594e5d7-257c-4859-c582-d44438949262"
      },
      "source": [
        "f1_score(tt['y_true'],tt['y_pred'])"
      ],
      "execution_count": 42,
      "outputs": [
        {
          "output_type": "execute_result",
          "data": {
            "text/plain": [
              "0.6970802919708029"
            ]
          },
          "metadata": {},
          "execution_count": 42
        }
      ]
    },
    {
      "cell_type": "code",
      "metadata": {
        "colab": {
          "base_uri": "https://localhost:8080/"
        },
        "id": "InCxcGW7-EXK",
        "outputId": "67c1ccad-aeda-4be8-a7eb-361f0ce9ace3"
      },
      "source": [
        "print(classification_report(tt['y_true'],tt['y_pred']))"
      ],
      "execution_count": 43,
      "outputs": [
        {
          "output_type": "stream",
          "name": "stdout",
          "text": [
            "              precision    recall  f1-score   support\n",
            "\n",
            "           0       0.76      0.91      0.83       888\n",
            "           1       0.83      0.60      0.70       635\n",
            "\n",
            "    accuracy                           0.78      1523\n",
            "   macro avg       0.80      0.76      0.76      1523\n",
            "weighted avg       0.79      0.78      0.77      1523\n",
            "\n"
          ]
        }
      ]
    },
    {
      "cell_type": "code",
      "metadata": {
        "id": "Hwi06kw5-UAI"
      },
      "source": [
        "classification_threshold = 0"
      ],
      "execution_count": 44,
      "outputs": []
    },
    {
      "cell_type": "code",
      "metadata": {
        "id": "rqCnLTdQ_SZ0"
      },
      "source": [
        "tt['y_score'] = model.predict_proba(validation[X_])[:,1]"
      ],
      "execution_count": 45,
      "outputs": []
    },
    {
      "cell_type": "code",
      "metadata": {
        "colab": {
          "base_uri": "https://localhost:8080/",
          "height": 424
        },
        "id": "e0pWuW61_kyN",
        "outputId": "08332627-8565-4c49-8737-0139b05c1dc5"
      },
      "source": [
        "tt"
      ],
      "execution_count": 46,
      "outputs": [
        {
          "output_type": "execute_result",
          "data": {
            "text/html": [
              "<div>\n",
              "<style scoped>\n",
              "    .dataframe tbody tr th:only-of-type {\n",
              "        vertical-align: middle;\n",
              "    }\n",
              "\n",
              "    .dataframe tbody tr th {\n",
              "        vertical-align: top;\n",
              "    }\n",
              "\n",
              "    .dataframe thead th {\n",
              "        text-align: right;\n",
              "    }\n",
              "</style>\n",
              "<table border=\"1\" class=\"dataframe\">\n",
              "  <thead>\n",
              "    <tr style=\"text-align: right;\">\n",
              "      <th></th>\n",
              "      <th>y_true</th>\n",
              "      <th>y_pred</th>\n",
              "      <th>y_score</th>\n",
              "    </tr>\n",
              "  </thead>\n",
              "  <tbody>\n",
              "    <tr>\n",
              "      <th>3</th>\n",
              "      <td>1</td>\n",
              "      <td>1</td>\n",
              "      <td>0.975050</td>\n",
              "    </tr>\n",
              "    <tr>\n",
              "      <th>12</th>\n",
              "      <td>1</td>\n",
              "      <td>1</td>\n",
              "      <td>0.582293</td>\n",
              "    </tr>\n",
              "    <tr>\n",
              "      <th>19</th>\n",
              "      <td>0</td>\n",
              "      <td>0</td>\n",
              "      <td>0.302323</td>\n",
              "    </tr>\n",
              "    <tr>\n",
              "      <th>38</th>\n",
              "      <td>1</td>\n",
              "      <td>1</td>\n",
              "      <td>0.729434</td>\n",
              "    </tr>\n",
              "    <tr>\n",
              "      <th>45</th>\n",
              "      <td>0</td>\n",
              "      <td>0</td>\n",
              "      <td>0.157784</td>\n",
              "    </tr>\n",
              "    <tr>\n",
              "      <th>...</th>\n",
              "      <td>...</td>\n",
              "      <td>...</td>\n",
              "      <td>...</td>\n",
              "    </tr>\n",
              "    <tr>\n",
              "      <th>7590</th>\n",
              "      <td>1</td>\n",
              "      <td>1</td>\n",
              "      <td>0.951655</td>\n",
              "    </tr>\n",
              "    <tr>\n",
              "      <th>7594</th>\n",
              "      <td>1</td>\n",
              "      <td>0</td>\n",
              "      <td>0.357061</td>\n",
              "    </tr>\n",
              "    <tr>\n",
              "      <th>7596</th>\n",
              "      <td>1</td>\n",
              "      <td>1</td>\n",
              "      <td>0.924884</td>\n",
              "    </tr>\n",
              "    <tr>\n",
              "      <th>7601</th>\n",
              "      <td>1</td>\n",
              "      <td>1</td>\n",
              "      <td>0.965404</td>\n",
              "    </tr>\n",
              "    <tr>\n",
              "      <th>7606</th>\n",
              "      <td>1</td>\n",
              "      <td>1</td>\n",
              "      <td>0.953560</td>\n",
              "    </tr>\n",
              "  </tbody>\n",
              "</table>\n",
              "<p>1523 rows × 3 columns</p>\n",
              "</div>"
            ],
            "text/plain": [
              "      y_true  y_pred   y_score\n",
              "3          1       1  0.975050\n",
              "12         1       1  0.582293\n",
              "19         0       0  0.302323\n",
              "38         1       1  0.729434\n",
              "45         0       0  0.157784\n",
              "...      ...     ...       ...\n",
              "7590       1       1  0.951655\n",
              "7594       1       0  0.357061\n",
              "7596       1       1  0.924884\n",
              "7601       1       1  0.965404\n",
              "7606       1       1  0.953560\n",
              "\n",
              "[1523 rows x 3 columns]"
            ]
          },
          "metadata": {},
          "execution_count": 46
        }
      ]
    },
    {
      "cell_type": "code",
      "metadata": {
        "id": "dT2SwXeH_lWV"
      },
      "source": [
        "from sklearn.metrics import roc_curve, roc_auc_score"
      ],
      "execution_count": 47,
      "outputs": []
    },
    {
      "cell_type": "code",
      "metadata": {
        "id": "_kgqQ38H_7Ti"
      },
      "source": [
        "fpr, tpr, thr = roc_curve(tt['y_true'], tt['y_score'])"
      ],
      "execution_count": 48,
      "outputs": []
    },
    {
      "cell_type": "code",
      "metadata": {
        "id": "pGA5EVVmARbf"
      },
      "source": [
        "roc_df = pd.DataFrame({'fpr':fpr,'tpr':tpr,'thr':thr})"
      ],
      "execution_count": 49,
      "outputs": []
    },
    {
      "cell_type": "code",
      "metadata": {
        "colab": {
          "base_uri": "https://localhost:8080/",
          "height": 352
        },
        "id": "gAuoZ8CDAvBY",
        "outputId": "ee7c1ce8-b46b-40f5-b3ae-352c0eafeabf"
      },
      "source": [
        "roc_df.plot(x='fpr', y='tpr', figsize= (5,5), grid = True)"
      ],
      "execution_count": 51,
      "outputs": [
        {
          "output_type": "execute_result",
          "data": {
            "text/plain": [
              "<matplotlib.axes._subplots.AxesSubplot at 0x7fba0e634350>"
            ]
          },
          "metadata": {},
          "execution_count": 51
        },
        {
          "output_type": "display_data",
          "data": {
            "image/png": "[encoded data removed]",
            "text/plain": [
              "<Figure size 360x360 with 1 Axes>"
            ]
          },
          "metadata": {
            "needs_background": "light"
          }
        }
      ]
    },
    {
      "cell_type": "code",
      "metadata": {
        "colab": {
          "base_uri": "https://localhost:8080/"
        },
        "id": "z-kSMN1qBCiW",
        "outputId": "052562c3-8f04-4b7f-9a1c-d31b98a954e2"
      },
      "source": [
        "roc_auc_score(tt['y_true'],tt['y_score'])"
      ],
      "execution_count": 53,
      "outputs": [
        {
          "output_type": "execute_result",
          "data": {
            "text/plain": [
              "0.8348735546570192"
            ]
          },
          "metadata": {},
          "execution_count": 53
        }
      ]
    },
    {
      "cell_type": "code",
      "metadata": {
        "id": "PdhCICgGBahD"
      },
      "source": [
        "roc_df['lr'] = roc_df['tpr'] - roc_df['fpr']"
      ],
      "execution_count": 61,
      "outputs": []
    },
    {
      "cell_type": "code",
      "metadata": {
        "colab": {
          "base_uri": "https://localhost:8080/",
          "height": 424
        },
        "id": "gpse95U5CMRH",
        "outputId": "9e469950-db81-415d-8393-e6a1ed006c9d"
      },
      "source": [
        "roc_df.sort_values('lr', ascending = False)"
      ],
      "execution_count": 62,
      "outputs": [
        {
          "output_type": "execute_result",
          "data": {
            "text/html": [
              "<div>\n",
              "<style scoped>\n",
              "    .dataframe tbody tr th:only-of-type {\n",
              "        vertical-align: middle;\n",
              "    }\n",
              "\n",
              "    .dataframe tbody tr th {\n",
              "        vertical-align: top;\n",
              "    }\n",
              "\n",
              "    .dataframe thead th {\n",
              "        text-align: right;\n",
              "    }\n",
              "</style>\n",
              "<table border=\"1\" class=\"dataframe\">\n",
              "  <thead>\n",
              "    <tr style=\"text-align: right;\">\n",
              "      <th></th>\n",
              "      <th>fpr</th>\n",
              "      <th>tpr</th>\n",
              "      <th>thr</th>\n",
              "      <th>lr</th>\n",
              "    </tr>\n",
              "  </thead>\n",
              "  <tbody>\n",
              "    <tr>\n",
              "      <th>177</th>\n",
              "      <td>0.118243</td>\n",
              "      <td>0.655118</td>\n",
              "      <td>0.416124</td>\n",
              "      <td>0.536875</td>\n",
              "    </tr>\n",
              "    <tr>\n",
              "      <th>171</th>\n",
              "      <td>0.111486</td>\n",
              "      <td>0.647244</td>\n",
              "      <td>0.437850</td>\n",
              "      <td>0.535758</td>\n",
              "    </tr>\n",
              "    <tr>\n",
              "      <th>179</th>\n",
              "      <td>0.122748</td>\n",
              "      <td>0.658268</td>\n",
              "      <td>0.410816</td>\n",
              "      <td>0.535520</td>\n",
              "    </tr>\n",
              "    <tr>\n",
              "      <th>175</th>\n",
              "      <td>0.117117</td>\n",
              "      <td>0.651969</td>\n",
              "      <td>0.424451</td>\n",
              "      <td>0.534851</td>\n",
              "    </tr>\n",
              "    <tr>\n",
              "      <th>173</th>\n",
              "      <td>0.115991</td>\n",
              "      <td>0.650394</td>\n",
              "      <td>0.425228</td>\n",
              "      <td>0.534403</td>\n",
              "    </tr>\n",
              "    <tr>\n",
              "      <th>...</th>\n",
              "      <td>...</td>\n",
              "      <td>...</td>\n",
              "      <td>...</td>\n",
              "      <td>...</td>\n",
              "    </tr>\n",
              "    <tr>\n",
              "      <th>2</th>\n",
              "      <td>0.000000</td>\n",
              "      <td>0.006299</td>\n",
              "      <td>0.988927</td>\n",
              "      <td>0.006299</td>\n",
              "    </tr>\n",
              "    <tr>\n",
              "      <th>516</th>\n",
              "      <td>0.996622</td>\n",
              "      <td>1.000000</td>\n",
              "      <td>0.065452</td>\n",
              "      <td>0.003378</td>\n",
              "    </tr>\n",
              "    <tr>\n",
              "      <th>1</th>\n",
              "      <td>0.000000</td>\n",
              "      <td>0.001575</td>\n",
              "      <td>0.992234</td>\n",
              "      <td>0.001575</td>\n",
              "    </tr>\n",
              "    <tr>\n",
              "      <th>0</th>\n",
              "      <td>0.000000</td>\n",
              "      <td>0.000000</td>\n",
              "      <td>1.992234</td>\n",
              "      <td>0.000000</td>\n",
              "    </tr>\n",
              "    <tr>\n",
              "      <th>517</th>\n",
              "      <td>1.000000</td>\n",
              "      <td>1.000000</td>\n",
              "      <td>0.064328</td>\n",
              "      <td>0.000000</td>\n",
              "    </tr>\n",
              "  </tbody>\n",
              "</table>\n",
              "<p>518 rows × 4 columns</p>\n",
              "</div>"
            ],
            "text/plain": [
              "          fpr       tpr       thr        lr\n",
              "177  0.118243  0.655118  0.416124  0.536875\n",
              "171  0.111486  0.647244  0.437850  0.535758\n",
              "179  0.122748  0.658268  0.410816  0.535520\n",
              "175  0.117117  0.651969  0.424451  0.534851\n",
              "173  0.115991  0.650394  0.425228  0.534403\n",
              "..        ...       ...       ...       ...\n",
              "2    0.000000  0.006299  0.988927  0.006299\n",
              "516  0.996622  1.000000  0.065452  0.003378\n",
              "1    0.000000  0.001575  0.992234  0.001575\n",
              "0    0.000000  0.000000  1.992234  0.000000\n",
              "517  1.000000  1.000000  0.064328  0.000000\n",
              "\n",
              "[518 rows x 4 columns]"
            ]
          },
          "metadata": {},
          "execution_count": 62
        }
      ]
    },
    {
      "cell_type": "code",
      "metadata": {
        "id": "LkbU2hYuCOgH"
      },
      "source": [
        "classification_threshold = 0.416124"
      ],
      "execution_count": 63,
      "outputs": []
    },
    {
      "cell_type": "code",
      "metadata": {
        "id": "aDuJ9_0lC_1f"
      },
      "source": [
        "tt['y_pred_1'] = (tt['y_score'] >= classification_threshold) * 1"
      ],
      "execution_count": 64,
      "outputs": []
    },
    {
      "cell_type": "code",
      "metadata": {
        "colab": {
          "base_uri": "https://localhost:8080/",
          "height": 424
        },
        "id": "wS-KV5LzDihS",
        "outputId": "b206fa97-810e-44d1-e2bf-181647c1208a"
      },
      "source": [
        "tt"
      ],
      "execution_count": 65,
      "outputs": [
        {
          "output_type": "execute_result",
          "data": {
            "text/html": [
              "<div>\n",
              "<style scoped>\n",
              "    .dataframe tbody tr th:only-of-type {\n",
              "        vertical-align: middle;\n",
              "    }\n",
              "\n",
              "    .dataframe tbody tr th {\n",
              "        vertical-align: top;\n",
              "    }\n",
              "\n",
              "    .dataframe thead th {\n",
              "        text-align: right;\n",
              "    }\n",
              "</style>\n",
              "<table border=\"1\" class=\"dataframe\">\n",
              "  <thead>\n",
              "    <tr style=\"text-align: right;\">\n",
              "      <th></th>\n",
              "      <th>y_true</th>\n",
              "      <th>y_pred</th>\n",
              "      <th>y_score</th>\n",
              "      <th>y_pred_1</th>\n",
              "    </tr>\n",
              "  </thead>\n",
              "  <tbody>\n",
              "    <tr>\n",
              "      <th>3</th>\n",
              "      <td>1</td>\n",
              "      <td>1</td>\n",
              "      <td>0.975050</td>\n",
              "      <td>1</td>\n",
              "    </tr>\n",
              "    <tr>\n",
              "      <th>12</th>\n",
              "      <td>1</td>\n",
              "      <td>1</td>\n",
              "      <td>0.582293</td>\n",
              "      <td>1</td>\n",
              "    </tr>\n",
              "    <tr>\n",
              "      <th>19</th>\n",
              "      <td>0</td>\n",
              "      <td>0</td>\n",
              "      <td>0.302323</td>\n",
              "      <td>0</td>\n",
              "    </tr>\n",
              "    <tr>\n",
              "      <th>38</th>\n",
              "      <td>1</td>\n",
              "      <td>1</td>\n",
              "      <td>0.729434</td>\n",
              "      <td>1</td>\n",
              "    </tr>\n",
              "    <tr>\n",
              "      <th>45</th>\n",
              "      <td>0</td>\n",
              "      <td>0</td>\n",
              "      <td>0.157784</td>\n",
              "      <td>0</td>\n",
              "    </tr>\n",
              "    <tr>\n",
              "      <th>...</th>\n",
              "      <td>...</td>\n",
              "      <td>...</td>\n",
              "      <td>...</td>\n",
              "      <td>...</td>\n",
              "    </tr>\n",
              "    <tr>\n",
              "      <th>7590</th>\n",
              "      <td>1</td>\n",
              "      <td>1</td>\n",
              "      <td>0.951655</td>\n",
              "      <td>1</td>\n",
              "    </tr>\n",
              "    <tr>\n",
              "      <th>7594</th>\n",
              "      <td>1</td>\n",
              "      <td>0</td>\n",
              "      <td>0.357061</td>\n",
              "      <td>0</td>\n",
              "    </tr>\n",
              "    <tr>\n",
              "      <th>7596</th>\n",
              "      <td>1</td>\n",
              "      <td>1</td>\n",
              "      <td>0.924884</td>\n",
              "      <td>1</td>\n",
              "    </tr>\n",
              "    <tr>\n",
              "      <th>7601</th>\n",
              "      <td>1</td>\n",
              "      <td>1</td>\n",
              "      <td>0.965404</td>\n",
              "      <td>1</td>\n",
              "    </tr>\n",
              "    <tr>\n",
              "      <th>7606</th>\n",
              "      <td>1</td>\n",
              "      <td>1</td>\n",
              "      <td>0.953560</td>\n",
              "      <td>1</td>\n",
              "    </tr>\n",
              "  </tbody>\n",
              "</table>\n",
              "<p>1523 rows × 4 columns</p>\n",
              "</div>"
            ],
            "text/plain": [
              "      y_true  y_pred   y_score  y_pred_1\n",
              "3          1       1  0.975050         1\n",
              "12         1       1  0.582293         1\n",
              "19         0       0  0.302323         0\n",
              "38         1       1  0.729434         1\n",
              "45         0       0  0.157784         0\n",
              "...      ...     ...       ...       ...\n",
              "7590       1       1  0.951655         1\n",
              "7594       1       0  0.357061         0\n",
              "7596       1       1  0.924884         1\n",
              "7601       1       1  0.965404         1\n",
              "7606       1       1  0.953560         1\n",
              "\n",
              "[1523 rows x 4 columns]"
            ]
          },
          "metadata": {},
          "execution_count": 65
        }
      ]
    },
    {
      "cell_type": "code",
      "metadata": {
        "colab": {
          "base_uri": "https://localhost:8080/"
        },
        "id": "i5QPbDaqHgL6",
        "outputId": "30621df8-bdf9-4ad4-9005-05ea934b4f1f"
      },
      "source": [
        "print(classification_report(tt['y_true'],tt['y_pred']))"
      ],
      "execution_count": 66,
      "outputs": [
        {
          "output_type": "stream",
          "name": "stdout",
          "text": [
            "              precision    recall  f1-score   support\n",
            "\n",
            "           0       0.76      0.91      0.83       888\n",
            "           1       0.83      0.60      0.70       635\n",
            "\n",
            "    accuracy                           0.78      1523\n",
            "   macro avg       0.80      0.76      0.76      1523\n",
            "weighted avg       0.79      0.78      0.77      1523\n",
            "\n"
          ]
        }
      ]
    },
    {
      "cell_type": "code",
      "metadata": {
        "colab": {
          "base_uri": "https://localhost:8080/"
        },
        "id": "MAOfheaIHqpI",
        "outputId": "7a24dfbe-a23f-4d14-b17c-12d86ee0a903"
      },
      "source": [
        "print(classification_report(tt['y_true'],tt['y_pred_1']))"
      ],
      "execution_count": 68,
      "outputs": [
        {
          "output_type": "stream",
          "name": "stdout",
          "text": [
            "              precision    recall  f1-score   support\n",
            "\n",
            "           0       0.78      0.88      0.83       888\n",
            "           1       0.80      0.65      0.72       635\n",
            "\n",
            "    accuracy                           0.79      1523\n",
            "   macro avg       0.79      0.77      0.77      1523\n",
            "weighted avg       0.79      0.79      0.78      1523\n",
            "\n"
          ]
        }
      ]
    },
    {
      "cell_type": "code",
      "metadata": {
        "id": "B4ilF_jqHsWU"
      },
      "source": [
        "test = pd.read_csv('/content/test.csv')"
      ],
      "execution_count": 70,
      "outputs": []
    },
    {
      "cell_type": "code",
      "metadata": {
        "id": "XMuAjJ2rJla7"
      },
      "source": [
        "X_test = ['text'] "
      ],
      "execution_count": 73,
      "outputs": []
    },
    {
      "cell_type": "code",
      "metadata": {
        "id": "xNI7PXjuINxy"
      },
      "source": [
        "test['y_score'] = model.predict_proba(test[X_test])[:,1]"
      ],
      "execution_count": 74,
      "outputs": []
    },
    {
      "cell_type": "code",
      "metadata": {
        "id": "MccJ41SOJvbw"
      },
      "source": [
        "test['target'] = (test['y_score'] >= classification_threshold) * 1"
      ],
      "execution_count": 79,
      "outputs": []
    },
    {
      "cell_type": "code",
      "metadata": {
        "colab": {
          "base_uri": "https://localhost:8080/",
          "height": 424
        },
        "id": "nChQ_MGpJ7Y_",
        "outputId": "999693dc-fbbb-4da9-f660-11db78cd51e7"
      },
      "source": [
        "test"
      ],
      "execution_count": 80,
      "outputs": [
        {
          "output_type": "execute_result",
          "data": {
            "text/html": [
              "<div>\n",
              "<style scoped>\n",
              "    .dataframe tbody tr th:only-of-type {\n",
              "        vertical-align: middle;\n",
              "    }\n",
              "\n",
              "    .dataframe tbody tr th {\n",
              "        vertical-align: top;\n",
              "    }\n",
              "\n",
              "    .dataframe thead th {\n",
              "        text-align: right;\n",
              "    }\n",
              "</style>\n",
              "<table border=\"1\" class=\"dataframe\">\n",
              "  <thead>\n",
              "    <tr style=\"text-align: right;\">\n",
              "      <th></th>\n",
              "      <th>id</th>\n",
              "      <th>keyword</th>\n",
              "      <th>location</th>\n",
              "      <th>text</th>\n",
              "      <th>y_score</th>\n",
              "      <th>y_pred</th>\n",
              "      <th>target</th>\n",
              "    </tr>\n",
              "  </thead>\n",
              "  <tbody>\n",
              "    <tr>\n",
              "      <th>0</th>\n",
              "      <td>0</td>\n",
              "      <td>NaN</td>\n",
              "      <td>NaN</td>\n",
              "      <td>Just happened a terrible car crash</td>\n",
              "      <td>0.772622</td>\n",
              "      <td>1</td>\n",
              "      <td>1</td>\n",
              "    </tr>\n",
              "    <tr>\n",
              "      <th>1</th>\n",
              "      <td>2</td>\n",
              "      <td>NaN</td>\n",
              "      <td>NaN</td>\n",
              "      <td>Heard about #earthquake is different cities, s...</td>\n",
              "      <td>0.640346</td>\n",
              "      <td>1</td>\n",
              "      <td>1</td>\n",
              "    </tr>\n",
              "    <tr>\n",
              "      <th>2</th>\n",
              "      <td>3</td>\n",
              "      <td>NaN</td>\n",
              "      <td>NaN</td>\n",
              "      <td>there is a forest fire at spot pond, geese are...</td>\n",
              "      <td>0.515972</td>\n",
              "      <td>1</td>\n",
              "      <td>1</td>\n",
              "    </tr>\n",
              "    <tr>\n",
              "      <th>3</th>\n",
              "      <td>9</td>\n",
              "      <td>NaN</td>\n",
              "      <td>NaN</td>\n",
              "      <td>Apocalypse lighting. #Spokane #wildfires</td>\n",
              "      <td>0.565654</td>\n",
              "      <td>1</td>\n",
              "      <td>1</td>\n",
              "    </tr>\n",
              "    <tr>\n",
              "      <th>4</th>\n",
              "      <td>11</td>\n",
              "      <td>NaN</td>\n",
              "      <td>NaN</td>\n",
              "      <td>Typhoon Soudelor kills 28 in China and Taiwan</td>\n",
              "      <td>0.985583</td>\n",
              "      <td>1</td>\n",
              "      <td>1</td>\n",
              "    </tr>\n",
              "    <tr>\n",
              "      <th>...</th>\n",
              "      <td>...</td>\n",
              "      <td>...</td>\n",
              "      <td>...</td>\n",
              "      <td>...</td>\n",
              "      <td>...</td>\n",
              "      <td>...</td>\n",
              "      <td>...</td>\n",
              "    </tr>\n",
              "    <tr>\n",
              "      <th>3258</th>\n",
              "      <td>10861</td>\n",
              "      <td>NaN</td>\n",
              "      <td>NaN</td>\n",
              "      <td>EARTHQUAKE SAFETY LOS ANGELES ÛÒ SAFETY FASTE...</td>\n",
              "      <td>0.320313</td>\n",
              "      <td>0</td>\n",
              "      <td>0</td>\n",
              "    </tr>\n",
              "    <tr>\n",
              "      <th>3259</th>\n",
              "      <td>10865</td>\n",
              "      <td>NaN</td>\n",
              "      <td>NaN</td>\n",
              "      <td>Storm in RI worse than last hurricane. My city...</td>\n",
              "      <td>0.404491</td>\n",
              "      <td>0</td>\n",
              "      <td>0</td>\n",
              "    </tr>\n",
              "    <tr>\n",
              "      <th>3260</th>\n",
              "      <td>10868</td>\n",
              "      <td>NaN</td>\n",
              "      <td>NaN</td>\n",
              "      <td>Green Line derailment in Chicago http://t.co/U...</td>\n",
              "      <td>0.958198</td>\n",
              "      <td>1</td>\n",
              "      <td>1</td>\n",
              "    </tr>\n",
              "    <tr>\n",
              "      <th>3261</th>\n",
              "      <td>10874</td>\n",
              "      <td>NaN</td>\n",
              "      <td>NaN</td>\n",
              "      <td>MEG issues Hazardous Weather Outlook (HWO) htt...</td>\n",
              "      <td>0.853106</td>\n",
              "      <td>1</td>\n",
              "      <td>1</td>\n",
              "    </tr>\n",
              "    <tr>\n",
              "      <th>3262</th>\n",
              "      <td>10875</td>\n",
              "      <td>NaN</td>\n",
              "      <td>NaN</td>\n",
              "      <td>#CityofCalgary has activated its Municipal Eme...</td>\n",
              "      <td>0.676772</td>\n",
              "      <td>1</td>\n",
              "      <td>1</td>\n",
              "    </tr>\n",
              "  </tbody>\n",
              "</table>\n",
              "<p>3263 rows × 7 columns</p>\n",
              "</div>"
            ],
            "text/plain": [
              "         id keyword location  ...   y_score  y_pred  target\n",
              "0         0     NaN      NaN  ...  0.772622       1       1\n",
              "1         2     NaN      NaN  ...  0.640346       1       1\n",
              "2         3     NaN      NaN  ...  0.515972       1       1\n",
              "3         9     NaN      NaN  ...  0.565654       1       1\n",
              "4        11     NaN      NaN  ...  0.985583       1       1\n",
              "...     ...     ...      ...  ...       ...     ...     ...\n",
              "3258  10861     NaN      NaN  ...  0.320313       0       0\n",
              "3259  10865     NaN      NaN  ...  0.404491       0       0\n",
              "3260  10868     NaN      NaN  ...  0.958198       1       1\n",
              "3261  10874     NaN      NaN  ...  0.853106       1       1\n",
              "3262  10875     NaN      NaN  ...  0.676772       1       1\n",
              "\n",
              "[3263 rows x 7 columns]"
            ]
          },
          "metadata": {},
          "execution_count": 80
        }
      ]
    },
    {
      "cell_type": "code",
      "metadata": {
        "id": "ZqXLvknNKuv8"
      },
      "source": [
        "test[['id', 'target']].to_csv('pred.csv', index = False)"
      ],
      "execution_count": 81,
      "outputs": []
    },
    {
      "cell_type": "code",
      "metadata": {
        "id": "t7g9QdGNLcTA"
      },
      "source": [
        ""
      ],
      "execution_count": null,
      "outputs": []
    }
  ]
}